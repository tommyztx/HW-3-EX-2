{
 "cells": [
  {
   "cell_type": "code",
   "execution_count": null,
   "metadata": {},
   "outputs": [],
   "source": [
    "x = [10, 20, 30, 40, 50]\n",
    "y = [1, 2, 3, 4, 5]\n",
    "\n",
    "result = []\n",
    "\n",
    "#Get a result of every value in y multiplied with every value in x\n",
    "for i in x:\n",
    "  for j in y:\n",
    "    result.append(i * j)\n",
    "\n",
    "print(result)"
   ]
  }
 ],
 "metadata": {
  "language_info": {
   "name": "python"
  }
 },
 "nbformat": 4,
 "nbformat_minor": 2
}
